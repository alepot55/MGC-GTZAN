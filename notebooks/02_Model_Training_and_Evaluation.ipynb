{
 "cells": [
  {
   "cell_type": "markdown",
   "id": "14d28b4a",
   "metadata": {},
   "source": [
    "# Model Training and Evaluation\n",
    "\n",
    "Questo notebook si occupa di:\n",
    "1. Caricamento delle features estratte\n",
    "2. Preparazione dei dati per il training\n",
    "3. Training di modelli di machine learning e deep learning\n",
    "4. Valutazione delle performance\n",
    "5. Confronto tra diversi modelli"
   ]
  },
  {
   "cell_type": "code",
   "execution_count": null,
   "id": "df2494ed",
   "metadata": {},
   "outputs": [],
   "source": [
    "# Import delle librerie necessarie\n",
    "import numpy as np\n",
    "import pandas as pd\n",
    "import matplotlib.pyplot as plt\n",
    "import seaborn as sns\n",
    "\n",
    "# Machine Learning\n",
    "from sklearn.model_selection import train_test_split, cross_val_score\n",
    "from sklearn.preprocessing import StandardScaler, LabelEncoder\n",
    "from sklearn.ensemble import RandomForestClassifier\n",
    "from sklearn.svm import SVC\n",
    "from sklearn.metrics import classification_report, confusion_matrix, accuracy_score\n",
    "\n",
    "# Deep Learning\n",
    "import tensorflow as tf\n",
    "from tensorflow.keras.models import Sequential\n",
    "from tensorflow.keras.layers import Dense, Dropout\n",
    "from tensorflow.keras.optimizers import Adam"
   ]
  },
  {
   "cell_type": "code",
   "execution_count": null,
   "id": "d69be576",
   "metadata": {},
   "outputs": [],
   "source": [
    "# Configurazione\n",
    "print(f\"TensorFlow version: {tf.__version__}\")\n",
    "print(f\"GPU available: {tf.config.list_physical_devices('GPU')}\")"
   ]
  }
 ],
 "metadata": {
  "language_info": {
   "name": "python"
  }
 },
 "nbformat": 4,
 "nbformat_minor": 5
}
