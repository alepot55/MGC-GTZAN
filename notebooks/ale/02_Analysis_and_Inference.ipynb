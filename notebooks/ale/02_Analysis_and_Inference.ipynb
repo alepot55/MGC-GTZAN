{
 "cells": [
  {
   "cell_type": "markdown",
   "id": "a9e5e310",
   "metadata": {},
   "source": [
    "# Notebook 02: Analisi dei Risultati, Confronto e Inferenza\n",
    "\n",
    "**Scopo:** Questo notebook carica i modelli addestrati e i risultati salvati dal Notebook 01 per condurre un'analisi numerica e visiva approfondita. L'obiettivo è confrontare le performance, interpretare i risultati e trarre conclusioni critiche.\n",
    "\n",
    "**Input:**\n",
    "- Modelli salvati da `../models/`\n",
    "- Dati di test da `../data/processed/`\n",
    "- Riepilogo del training da `../reports/training_summary.csv`\n",
    "- Artefatti di pre-processing da `../data/processed/` (`scaler.pkl`, `label_encoder.pkl`)\n",
    "\n",
    "**Output:**\n",
    "- Grafici comparativi (curve di apprendimento, performance su test set).\n",
    "- Matrici di confusione dettagliate.\n",
    "- Analisi degli errori per genere.\n",
    "- Conclusioni finali basate sui dati."
   ]
  },
  {
   "cell_type": "code",
   "execution_count": 1,
   "id": "6ca2d66a",
   "metadata": {},
   "outputs": [
    {
     "name": "stderr",
     "output_type": "stream",
     "text": [
      "2025-07-25 15:29:11.414815: I tensorflow/core/util/port.cc:153] oneDNN custom operations are on. You may see slightly different numerical results due to floating-point round-off errors from different computation orders. To turn them off, set the environment variable `TF_ENABLE_ONEDNN_OPTS=0`.\n",
      "2025-07-25 15:29:11.571378: E external/local_xla/xla/stream_executor/cuda/cuda_fft.cc:467] Unable to register cuFFT factory: Attempting to register factory for plugin cuFFT when one has already been registered\n",
      "WARNING: All log messages before absl::InitializeLog() is called are written to STDERR\n",
      "E0000 00:00:1753450151.659383   28026 cuda_dnn.cc:8579] Unable to register cuDNN factory: Attempting to register factory for plugin cuDNN when one has already been registered\n",
      "E0000 00:00:1753450151.680512   28026 cuda_blas.cc:1407] Unable to register cuBLAS factory: Attempting to register factory for plugin cuBLAS when one has already been registered\n",
      "W0000 00:00:1753450151.810209   28026 computation_placer.cc:177] computation placer already registered. Please check linkage and avoid linking the same target more than once.\n",
      "W0000 00:00:1753450151.810224   28026 computation_placer.cc:177] computation placer already registered. Please check linkage and avoid linking the same target more than once.\n",
      "W0000 00:00:1753450151.810225   28026 computation_placer.cc:177] computation placer already registered. Please check linkage and avoid linking the same target more than once.\n",
      "W0000 00:00:1753450151.810226   28026 computation_placer.cc:177] computation placer already registered. Please check linkage and avoid linking the same target more than once.\n",
      "2025-07-25 15:29:11.827206: I tensorflow/core/platform/cpu_feature_guard.cc:210] This TensorFlow binary is optimized to use available CPU instructions in performance-critical operations.\n",
      "To enable the following instructions: AVX2 AVX_VNNI FMA, in other operations, rebuild TensorFlow with the appropriate compiler flags.\n"
     ]
    },
    {
     "name": "stdout",
     "output_type": "stream",
     "text": [
      "✅ Riepilogo del training caricato con successo.\n",
      "✅ Dati di test e artefatti caricati.\n",
      "   - Shape X_test: (2000, 128, 128, 1)\n",
      "\n",
      "✅ Ambiente pronto per l'analisi.\n"
     ]
    }
   ],
   "source": [
    "# ===================================================================\n",
    "# CELLA 1: SETUP E CARICAMENTO DEI RISULTATI\n",
    "# ===================================================================\n",
    "\n",
    "import os\n",
    "import numpy as np\n",
    "import pandas as pd\n",
    "import pickle\n",
    "import matplotlib.pyplot as plt\n",
    "import seaborn as sns\n",
    "\n",
    "import tensorflow as tf\n",
    "from sklearn.metrics import classification_report, confusion_matrix\n",
    "\n",
    "# --- Configurazione Globale ---\n",
    "PROCESSED_DATA_PATH = '../data/processed/'\n",
    "MODELS_PATH = '../models/ale/'\n",
    "REPORTS_PATH = '../reports/'\n",
    "\n",
    "# 1. Caricamento del Riepilogo del Training\n",
    "summary_path = os.path.join(REPORTS_PATH, 'training_summary_InceptionSE.csv')\n",
    "if not os.path.exists(summary_path):\n",
    "    print(f\"❌ ERRORE: File di riepilogo '{summary_path}' non trovato. Eseguire prima il notebook '01_Model_Training_and_Evaluation.ipynb'.\")\n",
    "else:\n",
    "    results_df = pd.read_csv(summary_path)\n",
    "    print(\"✅ Riepilogo del training caricato con successo.\")\n",
    "\n",
    "# 2. Caricamento dei Dati di Test e degli Artefatti\n",
    "try:\n",
    "    X_test = np.load(os.path.join(PROCESSED_DATA_PATH, 'X_test.npy'))\n",
    "    y_test = np.load(os.path.join(PROCESSED_DATA_PATH, 'y_test.npy'))\n",
    "    with open(os.path.join(PROCESSED_DATA_PATH, 'label_encoder.pkl'), 'rb') as f:\n",
    "        label_encoder = pickle.load(f)\n",
    "    num_classes = len(label_encoder.classes_)\n",
    "    y_test_cat = tf.keras.utils.to_categorical(y_test, num_classes=num_classes)\n",
    "    print(\"✅ Dati di test e artefatti caricati.\")\n",
    "    print(f\"   - Shape X_test: {X_test.shape}\")\n",
    "except FileNotFoundError:\n",
    "    print(\"❌ ERRORE: File di dati di test non trovati. Eseguire prima il notebook '00_Setup_and_Data_Preparation.ipynb'.\")\n",
    "    \n",
    "# 3. Visualizzazione Settings\n",
    "plt.style.use('seaborn-v0_8-talk')\n",
    "sns.set_palette(\"muted\")\n",
    "print(\"\\n✅ Ambiente pronto per l'analisi.\")"
   ]
  },
  {
   "cell_type": "markdown",
   "id": "d38448a9",
   "metadata": {},
   "source": [
    "## 1. Analisi delle Performance Complessive\n",
    "\n",
    "In questa sezione, visualizziamo e confrontiamo le performance finali di tutte le combinazioni modello-ottimizzatore sul **Test Set**. Questo ci fornisce una visione d'insieme su quale approccio ha funzionato meglio."
   ]
  },
  {
   "cell_type": "code",
   "execution_count": 2,
   "id": "17d44c18",
   "metadata": {},
   "outputs": [
    {
     "ename": "ValueError",
     "evalue": "The palette dictionary is missing keys: {'InceptionSE_CNN'}",
     "output_type": "error",
     "traceback": [
      "\u001b[31m---------------------------------------------------------------------------\u001b[39m",
      "\u001b[31mValueError\u001b[39m                                Traceback (most recent call last)",
      "\u001b[36mCell\u001b[39m\u001b[36m \u001b[39m\u001b[32mIn[2]\u001b[39m\u001b[32m, line 10\u001b[39m\n\u001b[32m      7\u001b[39m results_df = results_df.sort_values(by=\u001b[33m'\u001b[39m\u001b[33mTest_Accuracy\u001b[39m\u001b[33m'\u001b[39m, ascending=\u001b[38;5;28;01mFalse\u001b[39;00m)\n\u001b[32m      9\u001b[39m plt.figure(figsize=(\u001b[32m16\u001b[39m, \u001b[32m8\u001b[39m))\n\u001b[32m---> \u001b[39m\u001b[32m10\u001b[39m barplot = \u001b[43msns\u001b[49m\u001b[43m.\u001b[49m\u001b[43mbarplot\u001b[49m\u001b[43m(\u001b[49m\n\u001b[32m     11\u001b[39m \u001b[43m    \u001b[49m\u001b[43mdata\u001b[49m\u001b[43m=\u001b[49m\u001b[43mresults_df\u001b[49m\u001b[43m,\u001b[49m\u001b[43m \u001b[49m\n\u001b[32m     12\u001b[39m \u001b[43m    \u001b[49m\u001b[43mx\u001b[49m\u001b[43m=\u001b[49m\u001b[33;43m'\u001b[39;49m\u001b[33;43mTest_Accuracy\u001b[39;49m\u001b[33;43m'\u001b[39;49m\u001b[43m,\u001b[49m\u001b[43m \u001b[49m\n\u001b[32m     13\u001b[39m \u001b[43m    \u001b[49m\u001b[43my\u001b[49m\u001b[43m=\u001b[49m\u001b[33;43m'\u001b[39;49m\u001b[33;43mExperiment\u001b[39;49m\u001b[33;43m'\u001b[39;49m\u001b[43m,\u001b[49m\u001b[43m \u001b[49m\u001b[38;5;66;43;03m# 'Experiment' è il nome della colonna nel nuovo df\u001b[39;49;00m\n\u001b[32m     14\u001b[39m \u001b[43m    \u001b[49m\u001b[43mhue\u001b[49m\u001b[43m=\u001b[49m\u001b[33;43m'\u001b[39;49m\u001b[33;43mModel\u001b[39;49m\u001b[33;43m'\u001b[39;49m\u001b[43m,\u001b[49m\u001b[43m \u001b[49m\n\u001b[32m     15\u001b[39m \u001b[43m    \u001b[49m\u001b[43mdodge\u001b[49m\u001b[43m=\u001b[49m\u001b[38;5;28;43;01mFalse\u001b[39;49;00m\u001b[43m,\u001b[49m\n\u001b[32m     16\u001b[39m \u001b[43m    \u001b[49m\u001b[43mpalette\u001b[49m\u001b[43m=\u001b[49m\u001b[43m{\u001b[49m\u001b[33;43m'\u001b[39;49m\u001b[33;43mUNet_Lite\u001b[39;49m\u001b[33;43m'\u001b[39;49m\u001b[43m:\u001b[49m\u001b[43m \u001b[49m\u001b[33;43m'\u001b[39;49m\u001b[33;43mskyblue\u001b[39;49m\u001b[33;43m'\u001b[39;49m\u001b[43m,\u001b[49m\u001b[43m \u001b[49m\u001b[33;43m'\u001b[39;49m\u001b[33;43mSimpleCNN\u001b[39;49m\u001b[33;43m'\u001b[39;49m\u001b[43m:\u001b[49m\u001b[43m \u001b[49m\u001b[33;43m'\u001b[39;49m\u001b[33;43msalmon\u001b[39;49m\u001b[33;43m'\u001b[39;49m\u001b[43m}\u001b[49m\n\u001b[32m     17\u001b[39m \u001b[43m\u001b[49m\u001b[43m)\u001b[49m\n\u001b[32m     19\u001b[39m plt.title(\u001b[33m'\u001b[39m\u001b[33mConfronto Accuratezza Finale su Test Set\u001b[39m\u001b[33m'\u001b[39m, fontsize=\u001b[32m20\u001b[39m, fontweight=\u001b[33m'\u001b[39m\u001b[33mbold\u001b[39m\u001b[33m'\u001b[39m)\n\u001b[32m     20\u001b[39m plt.xlabel(\u001b[33m'\u001b[39m\u001b[33mAccuracy\u001b[39m\u001b[33m'\u001b[39m, fontsize=\u001b[32m14\u001b[39m)\n",
      "\u001b[36mFile \u001b[39m\u001b[32m~/Desktop/projects/naml_project/venv/lib/python3.12/site-packages/seaborn/categorical.py:2370\u001b[39m, in \u001b[36mbarplot\u001b[39m\u001b[34m(data, x, y, hue, order, hue_order, estimator, errorbar, n_boot, seed, units, weights, orient, color, palette, saturation, fill, hue_norm, width, dodge, gap, log_scale, native_scale, formatter, legend, capsize, err_kws, ci, errcolor, errwidth, ax, **kwargs)\u001b[39m\n\u001b[32m   2367\u001b[39m palette, hue_order = p._hue_backcompat(color, palette, hue_order)\n\u001b[32m   2369\u001b[39m saturation = saturation \u001b[38;5;28;01mif\u001b[39;00m fill \u001b[38;5;28;01melse\u001b[39;00m \u001b[32m1\u001b[39m\n\u001b[32m-> \u001b[39m\u001b[32m2370\u001b[39m \u001b[43mp\u001b[49m\u001b[43m.\u001b[49m\u001b[43mmap_hue\u001b[49m\u001b[43m(\u001b[49m\u001b[43mpalette\u001b[49m\u001b[43m=\u001b[49m\u001b[43mpalette\u001b[49m\u001b[43m,\u001b[49m\u001b[43m \u001b[49m\u001b[43morder\u001b[49m\u001b[43m=\u001b[49m\u001b[43mhue_order\u001b[49m\u001b[43m,\u001b[49m\u001b[43m \u001b[49m\u001b[43mnorm\u001b[49m\u001b[43m=\u001b[49m\u001b[43mhue_norm\u001b[49m\u001b[43m,\u001b[49m\u001b[43m \u001b[49m\u001b[43msaturation\u001b[49m\u001b[43m=\u001b[49m\u001b[43msaturation\u001b[49m\u001b[43m)\u001b[49m\n\u001b[32m   2371\u001b[39m color = _default_color(ax.bar, hue, color, kwargs, saturation=saturation)\n\u001b[32m   2373\u001b[39m agg_cls = WeightedAggregator \u001b[38;5;28;01mif\u001b[39;00m \u001b[33m\"\u001b[39m\u001b[33mweight\u001b[39m\u001b[33m\"\u001b[39m \u001b[38;5;129;01min\u001b[39;00m p.plot_data \u001b[38;5;28;01melse\u001b[39;00m EstimateAggregator\n",
      "\u001b[36mFile \u001b[39m\u001b[32m~/Desktop/projects/naml_project/venv/lib/python3.12/site-packages/seaborn/_base.py:838\u001b[39m, in \u001b[36mVectorPlotter.map_hue\u001b[39m\u001b[34m(self, palette, order, norm, saturation)\u001b[39m\n\u001b[32m    837\u001b[39m \u001b[38;5;28;01mdef\u001b[39;00m\u001b[38;5;250m \u001b[39m\u001b[34mmap_hue\u001b[39m(\u001b[38;5;28mself\u001b[39m, palette=\u001b[38;5;28;01mNone\u001b[39;00m, order=\u001b[38;5;28;01mNone\u001b[39;00m, norm=\u001b[38;5;28;01mNone\u001b[39;00m, saturation=\u001b[32m1\u001b[39m):\n\u001b[32m--> \u001b[39m\u001b[32m838\u001b[39m     mapping = \u001b[43mHueMapping\u001b[49m\u001b[43m(\u001b[49m\u001b[38;5;28;43mself\u001b[39;49m\u001b[43m,\u001b[49m\u001b[43m \u001b[49m\u001b[43mpalette\u001b[49m\u001b[43m,\u001b[49m\u001b[43m \u001b[49m\u001b[43morder\u001b[49m\u001b[43m,\u001b[49m\u001b[43m \u001b[49m\u001b[43mnorm\u001b[49m\u001b[43m,\u001b[49m\u001b[43m \u001b[49m\u001b[43msaturation\u001b[49m\u001b[43m)\u001b[49m\n\u001b[32m    839\u001b[39m     \u001b[38;5;28mself\u001b[39m._hue_map = mapping\n",
      "\u001b[36mFile \u001b[39m\u001b[32m~/Desktop/projects/naml_project/venv/lib/python3.12/site-packages/seaborn/_base.py:150\u001b[39m, in \u001b[36mHueMapping.__init__\u001b[39m\u001b[34m(self, plotter, palette, order, norm, saturation)\u001b[39m\n\u001b[32m    147\u001b[39m \u001b[38;5;28;01melif\u001b[39;00m map_type == \u001b[33m\"\u001b[39m\u001b[33mcategorical\u001b[39m\u001b[33m\"\u001b[39m:\n\u001b[32m    149\u001b[39m     cmap = norm = \u001b[38;5;28;01mNone\u001b[39;00m\n\u001b[32m--> \u001b[39m\u001b[32m150\u001b[39m     levels, lookup_table = \u001b[38;5;28;43mself\u001b[39;49m\u001b[43m.\u001b[49m\u001b[43mcategorical_mapping\u001b[49m\u001b[43m(\u001b[49m\n\u001b[32m    151\u001b[39m \u001b[43m        \u001b[49m\u001b[43mdata\u001b[49m\u001b[43m,\u001b[49m\u001b[43m \u001b[49m\u001b[43mpalette\u001b[49m\u001b[43m,\u001b[49m\u001b[43m \u001b[49m\u001b[43morder\u001b[49m\u001b[43m,\u001b[49m\n\u001b[32m    152\u001b[39m \u001b[43m    \u001b[49m\u001b[43m)\u001b[49m\n\u001b[32m    154\u001b[39m \u001b[38;5;66;03m# --- Option 3: datetime mapping\u001b[39;00m\n\u001b[32m    155\u001b[39m \n\u001b[32m    156\u001b[39m \u001b[38;5;28;01melse\u001b[39;00m:\n\u001b[32m    157\u001b[39m     \u001b[38;5;66;03m# TODO this needs actual implementation\u001b[39;00m\n\u001b[32m    158\u001b[39m     cmap = norm = \u001b[38;5;28;01mNone\u001b[39;00m\n",
      "\u001b[36mFile \u001b[39m\u001b[32m~/Desktop/projects/naml_project/venv/lib/python3.12/site-packages/seaborn/_base.py:234\u001b[39m, in \u001b[36mHueMapping.categorical_mapping\u001b[39m\u001b[34m(self, data, palette, order)\u001b[39m\n\u001b[32m    232\u001b[39m     \u001b[38;5;28;01mif\u001b[39;00m \u001b[38;5;28many\u001b[39m(missing):\n\u001b[32m    233\u001b[39m         err = \u001b[33m\"\u001b[39m\u001b[33mThe palette dictionary is missing keys: \u001b[39m\u001b[38;5;132;01m{}\u001b[39;00m\u001b[33m\"\u001b[39m\n\u001b[32m--> \u001b[39m\u001b[32m234\u001b[39m         \u001b[38;5;28;01mraise\u001b[39;00m \u001b[38;5;167;01mValueError\u001b[39;00m(err.format(missing))\n\u001b[32m    236\u001b[39m     lookup_table = palette\n\u001b[32m    238\u001b[39m \u001b[38;5;28;01melse\u001b[39;00m:\n",
      "\u001b[31mValueError\u001b[39m: The palette dictionary is missing keys: {'InceptionSE_CNN'}"
     ]
    },
    {
     "data": {
      "image/png": "[encoded data removed]",
      "text/plain": [
       "<Figure size 1600x800 with 1 Axes>"
      ]
     },
     "metadata": {},
     "output_type": "display_data"
    }
   ],
   "source": [
    "# ===================================================================\n",
    "# CELLA 2: GRAFICO RIASSUNTIVO DELLE PERFORMANCE\n",
    "# ===================================================================\n",
    "\n",
    "if 'results_df' in locals():\n",
    "    # Ordiniamo i risultati per la migliore accuracy per una visualizzazione più chiara\n",
    "    results_df = results_df.sort_values(by='Test_Accuracy', ascending=False)\n",
    "    \n",
    "    plt.figure(figsize=(16, 8))\n",
    "    barplot = sns.barplot(\n",
    "        data=results_df, \n",
    "        x='Test_Accuracy', \n",
    "        y='Experiment', # 'Experiment' è il nome della colonna nel nuovo df\n",
    "        hue='Model', \n",
    "        dodge=False,\n",
    "        palette={'UNet_Lite': 'skyblue', 'SimpleCNN': 'salmon'}\n",
    "    )\n",
    "    \n",
    "    plt.title('Confronto Accuratezza Finale su Test Set', fontsize=20, fontweight='bold')\n",
    "    plt.xlabel('Accuracy', fontsize=14)\n",
    "    plt.ylabel('Esperimento (Modello + Ottimizzatore)', fontsize=14)\n",
    "    plt.xlim(0, 1.0)\n",
    "    plt.grid(axis='x', linestyle='--', alpha=0.7)\n",
    "    \n",
    "    # Aggiungi etichette numeriche sulle barre\n",
    "    for i in barplot.containers:\n",
    "        barplot.bar_label(i, fmt='%.4f', fontsize=12, padding=5)\n",
    "        \n",
    "    plt.legend(title='Architettura', fontsize=12)\n",
    "    plt.tight_layout()\n",
    "    plt.show()\n",
    "\n",
    "    print(\"\\n--- Riepilogo Tabellare ---\")\n",
    "    print(results_df[['Experiment', 'Test_Accuracy', 'Test_Loss', 'Best_Val_Accuracy']].round(4))\n",
    "else:\n",
    "    print(\"⚠️ 'results_df' non trovato. Eseguire la cella precedente.\")"
   ]
  },
  {
   "cell_type": "markdown",
   "id": "3d35c864",
   "metadata": {},
   "source": [
    "## 2. Analisi Approfondita del Miglior Modello\n",
    "\n",
    "Ora ci concentriamo sul modello che ha ottenuto la migliore performance sul test set. Analizzeremo in dettaglio i suoi errori attraverso la **matrice di confusione** e il **classification report**."
   ]
  },
  {
   "cell_type": "code",
   "execution_count": null,
   "id": "e892f9f1",
   "metadata": {},
   "outputs": [
    {
     "name": "stdout",
     "output_type": "stream",
     "text": [
      "🏆 Miglior esperimento identificato: 'SimpleCNN_Adam'\n",
      "   - Accuratezza su Test Set: 0.6730\n",
      "🔄 Caricamento del modello da: ../models/ale/SimpleCNN_Adam.keras\n"
     ]
    },
    {
     "ename": "NameError",
     "evalue": "name 'layers' is not defined",
     "output_type": "error",
     "traceback": [
      "\u001b[31m---------------------------------------------------------------------------\u001b[39m",
      "\u001b[31mNameError\u001b[39m                                 Traceback (most recent call last)",
      "\u001b[36mCell\u001b[39m\u001b[36m \u001b[39m\u001b[32mIn[3]\u001b[39m\u001b[32m, line 17\u001b[39m\n\u001b[32m     15\u001b[39m \u001b[38;5;28mprint\u001b[39m(\u001b[33mf\u001b[39m\u001b[33m\"\u001b[39m\u001b[33m🔄 Caricamento del modello da: \u001b[39m\u001b[38;5;132;01m{\u001b[39;00mmodel_path\u001b[38;5;132;01m}\u001b[39;00m\u001b[33m\"\u001b[39m)\n\u001b[32m     16\u001b[39m \u001b[38;5;66;03m# Creiamo un custom_objects per PReLU se usato\u001b[39;00m\n\u001b[32m---> \u001b[39m\u001b[32m17\u001b[39m custom_objects = {\u001b[33m'\u001b[39m\u001b[33mPReLU\u001b[39m\u001b[33m'\u001b[39m: \u001b[43mlayers\u001b[49m.PReLU} \n\u001b[32m     18\u001b[39m best_model = models.load_model(model_path, custom_objects=custom_objects)\n\u001b[32m     20\u001b[39m \u001b[38;5;66;03m# 3. Generare predizioni e report\u001b[39;00m\n",
      "\u001b[31mNameError\u001b[39m: name 'layers' is not defined"
     ]
    }
   ],
   "source": [
    "# ===================================================================\n",
    "# CELLA 3: ANALISI DETTAGLIATA DEL MIGLIOR MODELLO\n",
    "# ===================================================================\n",
    "\n",
    "if 'results_df' in locals():\n",
    "    # 1. Identificare il miglior esperimento\n",
    "    best_experiment = results_df.loc[results_df['Test_Accuracy'].idxmax()]\n",
    "    best_model_name = best_experiment['Experiment']\n",
    "    model_path = os.path.join(MODELS_PATH, f\"{best_model_name}.keras\")\n",
    "    print(f\"🏆 Miglior esperimento identificato: '{best_model_name}'\")\n",
    "    print(f\"   - Accuratezza su Test Set: {best_experiment['Test_Accuracy']:.4f}\")\n",
    "\n",
    "    # 2. Caricare il miglior modello salvato\n",
    "    if os.path.exists(model_path):\n",
    "        print(f\"🔄 Caricamento del modello da: {model_path}\")\n",
    "        # Creiamo un custom_objects per PReLU se usato\n",
    "        custom_objects = {'PReLU': layers.PReLU} \n",
    "        best_model = models.load_model(model_path, custom_objects=custom_objects)\n",
    "        \n",
    "        # 3. Generare predizioni e report\n",
    "        print(\"🔍 Generazione delle predizioni sul test set...\")\n",
    "        y_pred = best_model.predict(X_test)\n",
    "        y_pred_classes = np.argmax(y_pred, axis=1)\n",
    "        y_true_classes = np.argmax(y_test_cat, axis=1)\n",
    "        \n",
    "        class_names = label_encoder.classes_\n",
    "        \n",
    "        print(\"\\n--- Classification Report Dettagliato ---\")\n",
    "        print(classification_report(y_true_classes, y_pred_classes, target_names=class_names))\n",
    "        \n",
    "        # 4. Visualizzare la Matrice di Confusione\n",
    "        cm = confusion_matrix(y_true_classes, y_pred_classes)\n",
    "        \n",
    "        plt.figure(figsize=(12, 10))\n",
    "        sns.heatmap(cm, annot=True, fmt='d', cmap='Blues', \n",
    "                    xticklabels=class_names, yticklabels=class_names)\n",
    "        plt.title(f'Matrice di Confusione per {best_model_name}', fontsize=16, fontweight='bold')\n",
    "        plt.xlabel('Genere Predetto', fontsize=12)\n",
    "        plt.ylabel('Genere Reale', fontsize=12)\n",
    "        plt.show()\n",
    "        \n",
    "    else:\n",
    "        print(f\"❌ ERRORE: File del modello '{model_path}' non trovato.\")\n",
    "else:\n",
    "    print(\"⚠️ 'results_df' non trovato. Eseguire la cella precedente.\")"
   ]
  },
  {
   "cell_type": "markdown",
   "id": "42c92132",
   "metadata": {},
   "source": [
    "## 3. Analisi Numerica degli Ottimizzatori e Conclusioni Finali\n",
    "\n",
    "Infine, analizziamo l'impatto dei diversi ottimizzatori e traiamo le conclusioni finali del nostro progetto.\n",
    "\n",
    "### 3.1 Confronto Ottimizzatori\n",
    "Analizziamo le performance medie per ogni ottimizzatore, considerando entrambe le architetture.\n",
    "\n",
    "### 3.2 Conclusioni\n",
    "Sintetizziamo i punti chiave emersi:\n",
    "- Confronto tra le performance realistiche e quelle del paper.\n",
    "- Valutazione del trade-off complessità-accuratezza tra U-Net e CNN semplice.\n",
    "- Discussione sul ruolo della regolarizzazione e della data augmentation."
   ]
  },
  {
   "cell_type": "code",
   "execution_count": null,
   "id": "bcacc5c0",
   "metadata": {},
   "outputs": [
    {
     "name": "stdout",
     "output_type": "stream",
     "text": [
      "⚠️ Eseguire le celle precedenti per generare i risultati.\n"
     ]
    }
   ],
   "source": [
    "# ===================================================================\n",
    "# CELLA 4: ANALISI FINALE E CONCLUSIONI\n",
    "# ===================================================================\n",
    "\n",
    "if 'results_df' in locals():\n",
    "    # 1. Analisi per Ottimizzatore\n",
    "    optimizer_comparison = results_df.groupby('Optimizer')['Test_Accuracy'].agg(['mean', 'std', 'max']).sort_values(by='mean', ascending=False)\n",
    "    print(\"--- Analisi Performance per Ottimizzatore (Media su tutti i modelli) ---\")\n",
    "    print(optimizer_comparison.round(4))\n",
    "    \n",
    "    # 2. Analisi per Architettura\n",
    "    model_comparison = results_df.groupby('Model')['Test_Accuracy'].agg(['mean', 'std', 'max']).sort_values(by='mean', ascending=False)\n",
    "    print(\"\\n--- Analisi Performance per Architettura (Media su tutti gli ottimizzatori) ---\")\n",
    "    print(model_comparison.round(4))\n",
    "    \n",
    "    # 3. Conclusioni Scritte\n",
    "    best_overall = results_df.loc[results_df['Test_Accuracy'].idxmax()]\n",
    "    \n",
    "    print(\"\\n=========================================================\")\n",
    "    print(\"CONCLUSIONS FINALI DEL PROGETTO\")\n",
    "    print(\"=========================================================\")\n",
    "    print(f\"1.  **Performance Realistica:** Il nostro miglior modello ({best_overall['Experiment']}) ha raggiunto un'accuratezza del \"\n",
    "          f\"**{best_overall['Test_Accuracy']:.2%}** sul test set. Questo risultato è in linea con lo stato dell'arte per GTZAN \"\n",
    "          f\"usando una metodologia rigorosa, e smentisce il 99.41% dichiarato nel paper di riferimento, probabilmente viziato da data leakage.\")\n",
    "    \n",
    "    print(f\"\\n2.  **Trade-off Architettura:** L'architettura '{model_comparison.index[0]}' ha mostrato in media le migliori performance \"\n",
    "          f\"({model_comparison['mean'].iloc[0]:.2%}), ma la differenza con la '{model_comparison.index[1]}' \"\n",
    "          f\"({model_comparison['mean'].iloc[1]:.2%}) potrebbe non giustificare l'aumento di complessità e tempo di training. \"\n",
    "          \"Questo suggerisce di iniziare sempre con un baseline più semplice.\")\n",
    "          \n",
    "    print(f\"\\n3.  **Impatto dell'Ottimizzatore:** L'ottimizzatore '{optimizer_comparison.index[0]}' ha fornito in media i risultati più alti \"\n",
    "          f\"({optimizer_comparison['mean'].iloc[0]:.2%}), dimostrando un eccellente equilibrio tra velocità di convergenza e capacità \"\n",
    "          \"di generalizzazione in questo dominio, specialmente quando combinato con una forte regolarizzazione.\")\n",
    "\n",
    "    print(f\"\\n4.  **Lezione Chiave:** La rigorosa metodologia di valutazione (split corretto, data augmentation, confronto di iperparametri) \"\n",
    "          \"è più importante della scelta di un'architettura eccessivamente complessa. Il nostro progetto ha prodotto risultati affidabili e \"\n",
    "          \"interpretabili, fornendo una base solida per future ricerche.\")\n",
    "\n",
    "else:\n",
    "    print(\"⚠️ Eseguire le celle precedenti per generare i risultati.\")"
   ]
  }
 ],
 "metadata": {
  "kernelspec": {
   "display_name": "venv",
   "language": "python",
   "name": "python3"
  },
  "language_info": {
   "codemirror_mode": {
    "name": "ipython",
    "version": 3
   },
   "file_extension": ".py",
   "mimetype": "text/x-python",
   "name": "python",
   "nbconvert_exporter": "python",
   "pygments_lexer": "ipython3",
   "version": "3.12.3"
  }
 },
 "nbformat": 4,
 "nbformat_minor": 5
}
