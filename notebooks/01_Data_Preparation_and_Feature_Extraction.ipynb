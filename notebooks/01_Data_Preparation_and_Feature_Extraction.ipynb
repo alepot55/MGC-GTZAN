{
 "cells": [
  {
   "cell_type": "markdown",
   "id": "e824402a",
   "metadata": {},
   "source": [
    "# Data Preparation and Feature Extraction\n",
    "\n",
    "Questo notebook si occupa di:\n",
    "1. Caricamento del dataset GTZAN\n",
    "2. Esplorazione dei dati audio\n",
    "3. Estrazione delle features audio (MFCC, Spectral Features, ecc.)\n",
    "4. Preparazione dei dati per il training"
   ]
  },
  {
   "cell_type": "code",
   "execution_count": null,
   "id": "0eedfe2d",
   "metadata": {},
   "outputs": [],
   "source": [
    "# Import delle librerie necessarie\n",
    "import numpy as np\n",
    "import pandas as pd\n",
    "import librosa\n",
    "import matplotlib.pyplot as plt\n",
    "import seaborn as sns\n",
    "import os\n",
    "from pathlib import Path"
   ]
  },
  {
   "cell_type": "code",
   "execution_count": null,
   "id": "dc1e3e2d",
   "metadata": {},
   "outputs": [],
   "source": [
    "# Configurazione dei path\n",
    "DATA_PATH = Path('../data/Gtzan/genres_original')\n",
    "print(f\"Dataset path: {DATA_PATH}\")\n",
    "print(f\"Path exists: {DATA_PATH.exists()}\")"
   ]
  }
 ],
 "metadata": {
  "language_info": {
   "name": "python"
  }
 },
 "nbformat": 4,
 "nbformat_minor": 5
}
